{
 "cells": [
  {
   "cell_type": "markdown",
   "metadata": {
    "editable": true
   },
   "source": [
    "### List of things to be implemented:\n",
    "\n",
    "1. Pre-filter the raw data by discarding nulls on read"
   ]
  },
  {
   "cell_type": "code",
   "execution_count": 73,
   "metadata": {
    "editable": true
   },
   "outputs": [],
   "source": [
    "import configparser\n",
    "from datetime import datetime\n",
    "import os\n",
    "from pyspark.sql import SparkSession\n",
    "#from pyspark.sql.functions import udf, col\n",
    "from pyspark.sql.functions import col, monotonically_increasing_id, from_unixtime, to_timestamp\n",
    "from pyspark.sql.functions import year, month, dayofmonth, hour, weekofyear, dayofweek\n",
    "from pyspark.sql.types import StructType, StructField\n",
    "from pyspark.sql.types import StringType, DecimalType, DoubleType, IntegerType, LongType"
   ]
  },
  {
   "cell_type": "code",
   "execution_count": 2,
   "metadata": {
    "editable": true
   },
   "outputs": [],
   "source": [
    "def create_spark_session():\n",
    "    \"\"\"\n",
    "    This method returns the SparkSession object. It adds the Apache Hadoop AWS library as configuration parameter.\n",
    "    \n",
    "    Returns:\n",
    "        spark (pyspark.sql.session.SparkSession)\n",
    "    \"\"\"\n",
    "    \n",
    "    spark = SparkSession \\\n",
    "        .builder \\\n",
    "        .config(\"spark.jars.packages\", \"org.apache.hadoop:hadoop-aws:2.7.0\") \\\n",
    "        .getOrCreate()\n",
    "    \n",
    "    return spark\n"
   ]
  },
  {
   "cell_type": "code",
   "execution_count": 3,
   "metadata": {
    "editable": true
   },
   "outputs": [],
   "source": [
    "spark = create_spark_session()"
   ]
  },
  {
   "cell_type": "code",
   "execution_count": 4,
   "metadata": {
    "editable": true
   },
   "outputs": [],
   "source": [
    "# Schema definitons to read raw data\n",
    "\n",
    "# Schema song-data\n",
    "sch_song_data = StructType([ \\\n",
    "    StructField(\"artist_id\", StringType(), True), \\\n",
    "    StructField(\"artist_latitude\", DecimalType(),True), \\\n",
    "    StructField(\"artist_location\", StringType(), True), \\\n",
    "    StructField(\"artist_longitude\", DecimalType(), True), \\\n",
    "    StructField(\"artist_name\", StringType(), True), \\\n",
    "    StructField(\"duration\", DoubleType(), True), \\\n",
    "    StructField(\"num_songs\", IntegerType(), True), \\\n",
    "    StructField(\"song_id\", StringType(), True), \\\n",
    "    StructField(\"title\", StringType(), True), \\\n",
    "    StructField(\"year\", IntegerType(), True) \\\n",
    "  ])\n",
    "\n",
    "# Schema log-data\n",
    "sch_log_data = StructType([ \\\n",
    "    StructField(\"artist\", StringType(), True), \\\n",
    "    StructField(\"auth\", StringType(),True), \\\n",
    "    StructField(\"firstName\", StringType(), True), \\\n",
    "    StructField(\"gender\", StringType(), True), \\\n",
    "    StructField(\"itemInSession\", LongType(), True), \\\n",
    "    StructField(\"lastName\", StringType(), True), \\\n",
    "    StructField(\"length\", DoubleType(), True), \\\n",
    "    StructField(\"level\", StringType(), True), \\\n",
    "    StructField(\"location\", StringType(), True), \\\n",
    "    StructField(\"method\", StringType(), True), \\\n",
    "    StructField(\"page\", StringType(), True), \\\n",
    "    StructField(\"registration\", DoubleType(), True), \\\n",
    "    StructField(\"sessionId\", LongType(), True), \\\n",
    "    StructField(\"song\", StringType(), True), \\\n",
    "    StructField(\"status\", StringType(), True), \\\n",
    "    StructField(\"ts\", DoubleType(), True), \\\n",
    "    StructField(\"userAgent\", StringType(), True), \\\n",
    "    StructField(\"userId\", StringType(), True) \\\n",
    "  ])"
   ]
  },
  {
   "cell_type": "code",
   "execution_count": 5,
   "metadata": {
    "editable": true
   },
   "outputs": [],
   "source": [
    "# get filepath to song data files\n",
    "song_data_file = \"data/song-data/song_data/A/A/A/TRAAAAW128F429D538.json\"\n",
    "song_data      = \"./data/song-data/song_data/*/*/*/*.json\"\n",
    "\n",
    "# get filepath to log data files\n",
    "log_data_file = \"data/log-data/2018-11-01-events.json\"\n",
    "log_data = \"./data/log-data/*.json\""
   ]
  },
  {
   "cell_type": "code",
   "execution_count": 13,
   "metadata": {
    "editable": true
   },
   "outputs": [],
   "source": [
    "# read song data files\n",
    "df_song = spark.read.json(song_data, schema = sch_song_data)\n",
    "\n",
    "# read log data files\n",
    "df_log = spark.read.json(log_data, schema = sch_log_data)\n",
    "\n",
    "# song and log data joined on artist name\n",
    "\n",
    "df_songs_logs = df_log.\\\n",
    "    join(df_song, df_song.artist_name == df_log.artist, how = \"inner\")"
   ]
  },
  {
   "cell_type": "code",
   "execution_count": 7,
   "metadata": {
    "editable": true
   },
   "outputs": [
    {
     "name": "stdout",
     "output_type": "stream",
     "text": [
      "root\n",
      " |-- artist_id: string (nullable = true)\n",
      " |-- artist_latitude: decimal(10,0) (nullable = true)\n",
      " |-- artist_location: string (nullable = true)\n",
      " |-- artist_longitude: decimal(10,0) (nullable = true)\n",
      " |-- artist_name: string (nullable = true)\n",
      " |-- duration: double (nullable = true)\n",
      " |-- num_songs: integer (nullable = true)\n",
      " |-- song_id: string (nullable = true)\n",
      " |-- title: string (nullable = true)\n",
      " |-- year: integer (nullable = true)\n",
      "\n"
     ]
    }
   ],
   "source": [
    "df_song.printSchema()"
   ]
  },
  {
   "cell_type": "code",
   "execution_count": 8,
   "metadata": {
    "editable": true
   },
   "outputs": [
    {
     "name": "stdout",
     "output_type": "stream",
     "text": [
      "root\n",
      " |-- artist: string (nullable = true)\n",
      " |-- auth: string (nullable = true)\n",
      " |-- firstName: string (nullable = true)\n",
      " |-- gender: string (nullable = true)\n",
      " |-- itemInSession: long (nullable = true)\n",
      " |-- lastName: string (nullable = true)\n",
      " |-- length: double (nullable = true)\n",
      " |-- level: string (nullable = true)\n",
      " |-- location: string (nullable = true)\n",
      " |-- method: string (nullable = true)\n",
      " |-- page: string (nullable = true)\n",
      " |-- registration: double (nullable = true)\n",
      " |-- sessionId: long (nullable = true)\n",
      " |-- song: string (nullable = true)\n",
      " |-- status: string (nullable = true)\n",
      " |-- ts: double (nullable = true)\n",
      " |-- userAgent: string (nullable = true)\n",
      " |-- userId: string (nullable = true)\n",
      "\n"
     ]
    }
   ],
   "source": [
    "df_log.printSchema()"
   ]
  },
  {
   "cell_type": "code",
   "execution_count": 9,
   "metadata": {
    "editable": true
   },
   "outputs": [
    {
     "name": "stdout",
     "output_type": "stream",
     "text": [
      "+------------------+--------------------+------------------+----+---------+\n",
      "|           song_id|               title|         artist_id|year| duration|\n",
      "+------------------+--------------------+------------------+----+---------+\n",
      "|SOBAYLL12A8C138AF9|Sono andati? Fing...|ARDR4AC1187FB371A1|   0|511.16363|\n",
      "|SOOLYAZ12A6701F4A6|Laws Patrolling (...|AREBBGV1187FB523D2|   0|173.66159|\n",
      "|SOBBUGU12A8C13E95D|Setting Fire to S...|ARMAC4T1187FB3FA4C|2004|207.77751|\n",
      "|SOAOIBZ12AB01815BE|I Hold Your Hand ...|ARPBNLO1187FB3D52F|2000| 43.36281|\n",
      "|SONYPOM12A8C13B2D7|I Think My Wife I...|ARDNS031187B9924F0|2005|186.48771|\n",
      "+------------------+--------------------+------------------+----+---------+\n",
      "only showing top 5 rows\n",
      "\n"
     ]
    }
   ],
   "source": [
    "# processing song data\n",
    "\n",
    "# extract columns to create songs table\n",
    "songs_table = df_song.select(\"song_id\", \"title\", \"artist_id\", \"year\", \"duration\")\n",
    "songs_table.show(5)"
   ]
  },
  {
   "cell_type": "code",
   "execution_count": 10,
   "metadata": {
    "editable": true
   },
   "outputs": [
    {
     "name": "stdout",
     "output_type": "stream",
     "text": [
      "+------------------+--------------------+-----------------+---------------+----------------+\n",
      "|         artist_id|         artist_name|  artist_location|artist_latitude|artist_longitude|\n",
      "+------------------+--------------------+-----------------+---------------+----------------+\n",
      "|ARDR4AC1187FB371A1|Montserrat Caball...|                 |           null|            null|\n",
      "|AREBBGV1187FB523D2|Mike Jones (Featu...|      Houston, TX|           null|            null|\n",
      "|ARMAC4T1187FB3FA4C|The Dillinger Esc...|Morris Plains, NJ|             41|             -74|\n",
      "|ARPBNLO1187FB3D52F|            Tiny Tim|     New York, NY|             41|             -74|\n",
      "|ARDNS031187B9924F0|          Tim Wilson|          Georgia|             33|             -83|\n",
      "+------------------+--------------------+-----------------+---------------+----------------+\n",
      "only showing top 5 rows\n",
      "\n"
     ]
    }
   ],
   "source": [
    "# extract columns to create artists table\n",
    "\n",
    "artists_table = df_song.select(\"artist_id\", \"artist_name\", \"artist_location\", \"artist_latitude\", \"artist_longitude\")\n",
    "artists_table.show(5)"
   ]
  },
  {
   "cell_type": "code",
   "execution_count": 11,
   "metadata": {
    "editable": true
   },
   "outputs": [
    {
     "name": "stdout",
     "output_type": "stream",
     "text": [
      "+------+---------+--------+------+--------------------+\n",
      "|userId|firstName|lastName|gender|           userAgent|\n",
      "+------+---------+--------+------+--------------------+\n",
      "|    26|     Ryan|   Smith|     M|\"Mozilla/5.0 (X11...|\n",
      "|    26|     Ryan|   Smith|     M|\"Mozilla/5.0 (X11...|\n",
      "|    26|     Ryan|   Smith|     M|\"Mozilla/5.0 (X11...|\n",
      "|     9|    Wyatt|   Scott|     M|Mozilla/5.0 (Wind...|\n",
      "|    12|   Austin| Rosales|     M|Mozilla/5.0 (Wind...|\n",
      "+------+---------+--------+------+--------------------+\n",
      "only showing top 5 rows\n",
      "\n"
     ]
    }
   ],
   "source": [
    "# extract columns to create users table\n",
    "\n",
    "users_table = df_log.select(\"userId\", \"firstName\", \"lastName\", \"gender\", \"userAgent\")\n",
    "users_table.show(5)"
   ]
  },
  {
   "cell_type": "code",
   "execution_count": 60,
   "metadata": {
    "editable": true
   },
   "outputs": [],
   "source": [
    "# extract columns to create songplays table\n",
    "start_time = from_unixtime(df_songs_logs.ts/1000).alias(\"start_time\")\n",
    "\n",
    "songplays_table = df_songs_logs.\\\n",
    "    select(start_time, \"userId\", \"level\", \"sessionId\", \"location\", \"userAgent\", \"artist_id\", \"song_id\").\\\n",
    "    withColumn(\"songplay_id\", monotonically_increasing_id()).\\\n",
    "    where(col(\"page\") == \"NextSong\")"
   ]
  },
  {
   "cell_type": "code",
   "execution_count": 61,
   "metadata": {
    "editable": true
   },
   "outputs": [
    {
     "name": "stdout",
     "output_type": "stream",
     "text": [
      "root\n",
      " |-- start_time: string (nullable = true)\n",
      " |-- userId: string (nullable = true)\n",
      " |-- level: string (nullable = true)\n",
      " |-- sessionId: long (nullable = true)\n",
      " |-- location: string (nullable = true)\n",
      " |-- userAgent: string (nullable = true)\n",
      " |-- artist_id: string (nullable = true)\n",
      " |-- song_id: string (nullable = true)\n",
      " |-- songplay_id: long (nullable = false)\n",
      "\n"
     ]
    }
   ],
   "source": [
    "songplays_table.printSchema()"
   ]
  },
  {
   "cell_type": "code",
   "execution_count": 62,
   "metadata": {
    "editable": true
   },
   "outputs": [
    {
     "name": "stdout",
     "output_type": "stream",
     "text": [
      "+-------------------+------+-----+---------+--------------------+--------------------+------------------+------------------+-----------+\n",
      "|         start_time|userId|level|sessionId|            location|           userAgent|         artist_id|           song_id|songplay_id|\n",
      "+-------------------+------+-----+---------+--------------------+--------------------+------------------+------------------+-----------+\n",
      "|2018-11-15 20:32:47|    44| paid|      619|Waterloo-Cedar Fa...|Mozilla/5.0 (Maci...|ARIK43K1187B9AE54C|SOBONFF12A6D4F84D8|          0|\n",
      "|2018-11-21 21:56:47|    15| paid|      818|Chicago-Napervill...|\"Mozilla/5.0 (X11...|AR5KOSW1187FB35FF4|SOZCTXZ12AB0182364|          1|\n",
      "|2018-11-14 13:11:26|    34| free|      495|Milwaukee-Waukesh...|Mozilla/5.0 (Maci...|ARPFHN61187FB575F6|SOWQTQZ12A58A7B63E|          2|\n",
      "|2018-11-14 20:16:39|   101| free|      603|New Orleans-Metai...|\"Mozilla/5.0 (Win...|ARVBRGZ1187FB4675A|SORRZGD12A6310DBC3|          3|\n",
      "|2018-11-28 23:22:57|    24| paid|      984|Lake Havasu City-...|\"Mozilla/5.0 (Win...|ARPFHN61187FB575F6|SOWQTQZ12A58A7B63E|          4|\n",
      "|2018-11-24 03:48:21|    88| paid|      888|Sacramento--Rosev...|\"Mozilla/5.0 (Mac...|ARNF6401187FB57032|SONWXQJ12A8C134D94|          5|\n",
      "|2018-11-24 12:42:57|    80| paid|      903|Portland-South Po...|\"Mozilla/5.0 (Mac...|ARIK43K1187B9AE54C|SOBONFF12A6D4F84D8|          6|\n",
      "|2018-11-29 20:29:23|    49| paid|     1041|San Francisco-Oak...|Mozilla/5.0 (Wind...|ARIK43K1187B9AE54C|SOBONFF12A6D4F84D8|          7|\n",
      "|2018-11-19 15:36:04|    49| paid|      724|San Francisco-Oak...|Mozilla/5.0 (Wind...|ARXR32B1187FB57099|SOFSOCN12A8C143F5D|          8|\n",
      "|2018-11-19 20:44:01|    42| paid|      632|New York-Newark-J...|\"Mozilla/5.0 (Win...|ARBEBBY1187B9B43DB|SOFFKZS12AB017F194|          9|\n",
      "|2018-11-19 22:28:42|    25| paid|      594|    Marinette, WI-MI|\"Mozilla/5.0 (Win...|ARBEBBY1187B9B43DB|SOFFKZS12AB017F194|         10|\n",
      "|2018-11-26 17:57:10|    29| paid|      924|Atlanta-Sandy Spr...|\"Mozilla/5.0 (Mac...|ARKULSX1187FB45F84|SOQVMXR12A81C21483|         11|\n",
      "|2018-11-06 15:58:30|    30| paid|      130|San Jose-Sunnyval...|Mozilla/5.0 (Wind...|ARD842G1187B997376|SOHUOAP12A8AE488E9|         12|\n",
      "|2018-11-06 16:04:44|     2| free|      126|        Plymouth, IN|\"Mozilla/5.0 (Win...|ARPFHN61187FB575F6|SOWQTQZ12A58A7B63E|         13|\n",
      "|2018-11-06 18:34:31|    97| paid|      293|Lansing-East Lans...|\"Mozilla/5.0 (X11...|ARPFHN61187FB575F6|SOWQTQZ12A58A7B63E|         14|\n",
      "|2018-11-17 15:37:12|    73| paid|      518|Tampa-St. Petersb...|\"Mozilla/5.0 (Mac...|ARIK43K1187B9AE54C|SOBONFF12A6D4F84D8|         15|\n",
      "|2018-11-22 20:27:18|     6| free|      763|Atlanta-Sandy Spr...|Mozilla/5.0 (Wind...|ARJIE2Y1187B994AB7|SOUPIRU12A6D4FA1E1|         16|\n",
      "|2018-11-10 07:47:51|    44| paid|      350|Waterloo-Cedar Fa...|Mozilla/5.0 (Maci...|ARPFHN61187FB575F6|SOWQTQZ12A58A7B63E|         17|\n",
      "|2018-11-10 07:52:24|    44| paid|      350|Waterloo-Cedar Fa...|Mozilla/5.0 (Maci...|ARBEBBY1187B9B43DB|SOFFKZS12AB017F194|         18|\n",
      "|2018-11-10 09:40:07|    44| paid|      350|Waterloo-Cedar Fa...|Mozilla/5.0 (Maci...|ARBEBBY1187B9B43DB|SOFFKZS12AB017F194|         19|\n",
      "+-------------------+------+-----+---------+--------------------+--------------------+------------------+------------------+-----------+\n",
      "only showing top 20 rows\n",
      "\n"
     ]
    }
   ],
   "source": [
    "songplays_table.show()"
   ]
  },
  {
   "cell_type": "code",
   "execution_count": 74,
   "metadata": {
    "editable": true
   },
   "outputs": [
    {
     "name": "stdout",
     "output_type": "stream",
     "text": [
      "+-------------------+----+-----+---+----+-------+\n",
      "|         start_time|year|month|day|week|weekday|\n",
      "+-------------------+----+-----+---+----+-------+\n",
      "|2018-11-15 20:32:47|2018|   11| 15|  46|      5|\n",
      "|2018-11-21 21:56:47|2018|   11| 21|  47|      4|\n",
      "|2018-11-14 13:11:26|2018|   11| 14|  46|      4|\n",
      "|2018-11-14 20:16:39|2018|   11| 14|  46|      4|\n",
      "|2018-11-28 23:22:57|2018|   11| 28|  48|      4|\n",
      "+-------------------+----+-----+---+----+-------+\n",
      "only showing top 5 rows\n",
      "\n"
     ]
    }
   ],
   "source": [
    "# extract columns to time songplays table\n",
    "\n",
    "df_time = songplays_table.select(\"start_time\").\\\n",
    "    withColumn(\"year\", year(to_timestamp(col(\"start_time\")))).\\\n",
    "    withColumn(\"month\", month(to_timestamp(col(\"start_time\")))).\\\n",
    "    withColumn(\"day\", dayofmonth(to_timestamp(col(\"start_time\")))).\\\n",
    "    withColumn(\"week\", weekofyear(to_timestamp(col(\"start_time\")))).\\\n",
    "    withColumn(\"weekday\", dayofweek(to_timestamp(col(\"start_time\")))).show(5)\n",
    "    "
   ]
  },
  {
   "cell_type": "code",
   "execution_count": null,
   "metadata": {
    "editable": true
   },
   "outputs": [],
   "source": []
  }
 ],
 "metadata": {
  "kernelspec": {
   "display_name": "Python 3",
   "language": "python",
   "name": "python3"
  },
  "language_info": {
   "codemirror_mode": {
    "name": "ipython",
    "version": 3
   },
   "file_extension": ".py",
   "mimetype": "text/x-python",
   "name": "python",
   "nbconvert_exporter": "python",
   "pygments_lexer": "ipython3",
   "version": "3.6.3"
  }
 },
 "nbformat": 4,
 "nbformat_minor": 4
}
